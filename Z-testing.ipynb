{
 "cells": [
  {
   "cell_type": "markdown",
   "id": "03aa6e36-e4ab-430c-89f2-3adccba9eeae",
   "metadata": {},
   "source": [
    "##                                                      Z-testing "
   ]
  },
  {
   "cell_type": "markdown",
   "id": "dd6d1433-e17b-41e7-b00e-3a695b9c473f",
   "metadata": {},
   "source": [
    "## Example 1:-\n",
    "### Scenario:\n",
    "#### Imagine you work for an e-commerce company, and your team is responsible for analyzing customer purchase data. You want to determine whether a new website design has led to a significant increase in the average purchase amount compared to the old design.\n",
    "\n",
    "### Data:\n",
    "#### You have collected data from a random sample of 30 customers who made purchases on the old website design and 30 customers who made purchases on the new website design. You have the sample means, sample standard deviations, and sample sizes for both groups.\n",
    "\n",
    "#### Old design data =[45.2, 42.8, 38.9, 43.5, 41.0, 44.6, 42.7, 39.8, 41.5, 39.6, 44.3, 38.7, 43.0, 42.9, 41.4, 44.3, 39.7, 42.3, 41.6, 40.9, 42.5, 41.6, 41.9, 42.8, 43.7, 41.0, 40.9, 42.5, 41.6,42.6]\n",
    "\n",
    "#### New design data =[48.5, 49.1, 50.2, 47.8, 48.7, 49.9, 48.0, 50.5, 49.8, 49.6, 50.1, 48.3, 49.0, 50.0, 48.4, 49.3, 49.5, 48.8, 50.6, 50.4, 48.1, 49.2, 50.7, 50.3, 49.5, 50.0, 48.9, 50.6, 49.7,44.7]\n",
    "\n",
    "#### Population std = 2.5\n",
    "\n"
   ]
  },
  {
   "cell_type": "code",
   "execution_count": 1,
   "id": "235b9623-d2c1-4112-9c33-8eb41736ecf6",
   "metadata": {},
   "outputs": [],
   "source": [
    "import scipy.stats as spy\n",
    "import numpy as np"
   ]
  },
  {
   "cell_type": "code",
   "execution_count": 9,
   "id": "fddd8139-108a-4ceb-98c3-1fbbe9fd0193",
   "metadata": {},
   "outputs": [],
   "source": [
    "Old_design_data =np.array([45.2, 42.8, 38.9, 43.5, 41.0, 44.6, 42.7, 39.8, 41.5, 39.6, 44.3, 38.7, 43.0, 42.9, 41.4, 44.3, 39.7, 42.3, 41.6, 40.9, 42.5, 41.6, 41.9, 42.8, 43.7, 41.0, 40.9, 42.5, 41.6,42.6])\n",
    "New_design_data =np.array([48.5, 49.1, 50.2, 47.8, 48.7, 49.9, 48.0, 50.5, 49.8, 49.6, 50.1, 48.3, 49.0, 50.0, 48.4, 49.3, 49.5, 48.8, 50.6, 50.4, 48.1, 49.2, 50.7, 50.3, 49.5, 50.0, 48.9, 50.6, 49.7,44.7])"
   ]
  },
  {
   "cell_type": "code",
   "execution_count": 17,
   "id": "59c7e9bc-57e4-4d9d-bcbc-ca936aca2aa5",
   "metadata": {},
   "outputs": [],
   "source": [
    "mean_new=np.mean(New_design_data)\n",
    "mean_old=np.mean(Old_design_data)\n",
    "pop_std=2.5\n",
    "n_smpl=len(New_design_data)\n",
    "alpha=0.05"
   ]
  },
  {
   "cell_type": "code",
   "execution_count": 20,
   "id": "62d8b24c-1c0a-4df1-969b-14bd0d8ea2b4",
   "metadata": {},
   "outputs": [
    {
     "data": {
      "text/plain": [
       "15.949680874550454"
      ]
     },
     "execution_count": 20,
     "metadata": {},
     "output_type": "execute_result"
    }
   ],
   "source": [
    "z_cal=(mean_new-mean_old)/(pop_std/np.sqrt(n_smpl))\n",
    "z_cal"
   ]
  },
  {
   "cell_type": "code",
   "execution_count": 22,
   "id": "1c8f89da-20c7-45d7-ac2d-7acfbba194f1",
   "metadata": {},
   "outputs": [
    {
     "data": {
      "text/plain": [
       "1.6448536269514722"
      ]
     },
     "execution_count": 22,
     "metadata": {},
     "output_type": "execute_result"
    }
   ],
   "source": [
    "z_table=spy.norm.ppf(1-alpha)\n",
    "z_table"
   ]
  },
  {
   "cell_type": "code",
   "execution_count": 23,
   "id": "268fe947-2095-4037-b303-c1a7587e9c95",
   "metadata": {},
   "outputs": [
    {
     "name": "stdout",
     "output_type": "stream",
     "text": [
      "Ha is right \n"
     ]
    }
   ],
   "source": [
    "if z_cal>z_table:\n",
    "    print(\"Ha is right \")\n",
    "else:\n",
    "    print(\"Ho is right \")"
   ]
  },
  {
   "cell_type": "code",
   "execution_count": null,
   "id": "0dd7af26-0eba-4d83-bfce-6e65137a54ff",
   "metadata": {},
   "outputs": [],
   "source": []
  }
 ],
 "metadata": {
  "kernelspec": {
   "display_name": "Python 3 (ipykernel)",
   "language": "python",
   "name": "python3"
  },
  "language_info": {
   "codemirror_mode": {
    "name": "ipython",
    "version": 3
   },
   "file_extension": ".py",
   "mimetype": "text/x-python",
   "name": "python",
   "nbconvert_exporter": "python",
   "pygments_lexer": "ipython3",
   "version": "3.12.3"
  }
 },
 "nbformat": 4,
 "nbformat_minor": 5
}
