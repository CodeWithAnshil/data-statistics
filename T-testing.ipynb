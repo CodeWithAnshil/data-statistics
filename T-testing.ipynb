{
 "cells": [
  {
   "cell_type": "markdown",
   "id": "21e586b3-3b2f-4557-9f09-91ecafa9e6e6",
   "metadata": {},
   "source": [
    "# T-testing"
   ]
  },
  {
   "cell_type": "markdown",
   "id": "74cee875-8480-4df1-b98e-a15d84326327",
   "metadata": {},
   "source": [
    "## Example 1:\n",
    "\n",
    "#### A manufacturer claims that the average weight of a bag of potato chips is 150 grams. A sample of 25 bags is taken, and the average weight is found to be 148 grams, with a standard deviation of 5 grams. Test the manufacturer's claim using a one-tailed t-test with a significance level of 0.05.\n",
    "\n"
   ]
  },
  {
   "cell_type": "code",
   "execution_count": 3,
   "id": "fcbb7ce2-9140-4924-b65a-8db99f41d350",
   "metadata": {},
   "outputs": [],
   "source": [
    "import scipy.stats as spy\n",
    "import numpy as np"
   ]
  },
  {
   "cell_type": "code",
   "execution_count": 7,
   "id": "35cc59cb-b8ce-4582-8f78-fc47a356c950",
   "metadata": {},
   "outputs": [],
   "source": [
    "u=150\n",
    "x=148\n",
    "std=5\n",
    "n=25\n",
    "alpha=0.05\n",
    "df=(n-1) #df= degree of freedom"
   ]
  },
  {
   "cell_type": "code",
   "execution_count": 8,
   "id": "55264a4c-d476-4c13-9c41-cc7208c857db",
   "metadata": {},
   "outputs": [
    {
     "data": {
      "text/plain": [
       "-2.0"
      ]
     },
     "execution_count": 8,
     "metadata": {},
     "output_type": "execute_result"
    }
   ],
   "source": [
    "T_cal=(x-u)/(std/np.sqrt(n))\n",
    "T_cal"
   ]
  },
  {
   "cell_type": "code",
   "execution_count": 10,
   "id": "f9e2a761-796d-4dd4-a1cc-ad01b6120c89",
   "metadata": {},
   "outputs": [
    {
     "data": {
      "text/plain": [
       "-1.7108820799094282"
      ]
     },
     "execution_count": 10,
     "metadata": {},
     "output_type": "execute_result"
    }
   ],
   "source": [
    "T_table=spy.t.ppf(alpha,df)\n",
    "T_table"
   ]
  },
  {
   "cell_type": "code",
   "execution_count": 11,
   "id": "6c7d3042-df37-4588-8cdb-9d227e1c3145",
   "metadata": {},
   "outputs": [
    {
     "name": "stdout",
     "output_type": "stream",
     "text": [
      "Ha is right\n"
     ]
    }
   ],
   "source": [
    "if T_cal<T_table:\n",
    "    print(\"Ha is right\")\n",
    "else:\n",
    "    print(\"Ho is right\")\n",
    "    "
   ]
  },
  {
   "cell_type": "markdown",
   "id": "6d448cfe-8d53-4eef-a209-c5cf17f972ac",
   "metadata": {},
   "source": [
    "# Example 2:\n",
    "\n",
    "#### A company wants to test whether a new training program improves the typing speed of its employees. The typing speed of 20 employees was recorded before and after the training program. The data is given below. Test at a 5% level of significance whether the training program has an effect on the typing speed of the employees.\n",
    "\n",
    "#### Before: 50, 60, 45, 65, 55, 70, 40, 75, 80, 65, 70, 60, 50, 55, 45, 75, 60, 50, 65, 55, 70\n",
    "\n",
    "#### After:  60, 70, 55, 75, 65, 80, 50, 85, 90, 70, 75, 65, 55, 60, 50, 80, 60, 65, 55, 70, 75\n",
    "\n"
   ]
  },
  {
   "cell_type": "code",
   "execution_count": 34,
   "id": "a26d8ff0-b31c-4412-99b8-1ed4dd1399e4",
   "metadata": {},
   "outputs": [],
   "source": [
    "Before= np.array([50, 60, 45, 65, 55, 70, 40, 75, 80, 65, 70, 60, 50, 55, 45, 75, 60, 50, 65, 70])\n",
    "After=  np.array([60, 70, 55, 75, 65, 80, 50, 85, 90, 70, 75, 65, 55, 60, 50, 80, 65, 55, 70, 75])"
   ]
  },
  {
   "cell_type": "code",
   "execution_count": 40,
   "id": "c04bf9e4-86c8-463a-80d6-b674f7f1dc91",
   "metadata": {},
   "outputs": [],
   "source": [
    "mean_b=np.mean(Before)\n",
    "mean_a=np.mean(After)\n",
    "n=len(Before)\n",
    "df=n-1\n",
    "std_a=np.std(After)\n",
    "std_b=np.std(Before)"
   ]
  },
  {
   "cell_type": "code",
   "execution_count": 41,
   "id": "0cc01780-22dc-4504-b96b-7d96ea49a56d",
   "metadata": {},
   "outputs": [
    {
     "data": {
      "text/plain": [
       "2.061200527128206"
      ]
     },
     "execution_count": 41,
     "metadata": {},
     "output_type": "execute_result"
    }
   ],
   "source": [
    "T_cal=(mean_a-mean_b)/np.sqrt((np.square(std_a))/n+((np.square(std_b))/n))\n",
    "T_cal"
   ]
  },
  {
   "cell_type": "code",
   "execution_count": 42,
   "id": "a1fbdcc8-f4dd-412b-9b64-64e5e81cabeb",
   "metadata": {},
   "outputs": [
    {
     "data": {
      "text/plain": [
       "2.093024054408263"
      ]
     },
     "execution_count": 42,
     "metadata": {},
     "output_type": "execute_result"
    }
   ],
   "source": [
    "T_table=spy.t.ppf(1-0.025,19)\n",
    "T_table"
   ]
  },
  {
   "cell_type": "code",
   "execution_count": null,
   "id": "c1250953-3870-4075-8b05-81481eec4d7b",
   "metadata": {},
   "outputs": [],
   "source": []
  }
 ],
 "metadata": {
  "kernelspec": {
   "display_name": "Python 3 (ipykernel)",
   "language": "python",
   "name": "python3"
  },
  "language_info": {
   "codemirror_mode": {
    "name": "ipython",
    "version": 3
   },
   "file_extension": ".py",
   "mimetype": "text/x-python",
   "name": "python",
   "nbconvert_exporter": "python",
   "pygments_lexer": "ipython3",
   "version": "3.12.3"
  }
 },
 "nbformat": 4,
 "nbformat_minor": 5
}
