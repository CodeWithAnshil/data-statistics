{
 "cells": [
  {
   "cell_type": "markdown",
   "id": "301a6d0d-1e2b-40ea-924e-dc822543c8ba",
   "metadata": {},
   "source": [
    "# mean "
   ]
  },
  {
   "cell_type": "code",
   "execution_count": 29,
   "id": "55663383-55d4-46a2-b820-9ad77e1da72d",
   "metadata": {},
   "outputs": [],
   "source": [
    "import numpy as np\n",
    "import pandas as pd\n",
    "import matplotlib.pyplot as plt\n",
    "import seaborn as sns"
   ]
  },
  {
   "cell_type": "code",
   "execution_count": 30,
   "id": "0a2f3492-b214-4f5f-ac5f-8e3cf616fc8b",
   "metadata": {},
   "outputs": [],
   "source": [
    "dataset=np.array([1,2,21,42,5,44,53,21])\n"
   ]
  },
  {
   "cell_type": "markdown",
   "id": "6d16eb9c-ddfa-486c-ad16-8ff0c61b29ad",
   "metadata": {},
   "source": [
    "### 1. basic mathod "
   ]
  },
  {
   "cell_type": "code",
   "execution_count": 31,
   "id": "2e2c3534-fa3f-4cf7-9feb-66ad292379b9",
   "metadata": {},
   "outputs": [
    {
     "data": {
      "text/plain": [
       "23.625"
      ]
     },
     "execution_count": 31,
     "metadata": {},
     "output_type": "execute_result"
    }
   ],
   "source": [
    "np.sum(dataset)/len(dataset)"
   ]
  },
  {
   "cell_type": "code",
   "execution_count": null,
   "id": "a8b2f44c-fed1-402d-8d2a-62bce762c64b",
   "metadata": {},
   "outputs": [],
   "source": []
  },
  {
   "cell_type": "markdown",
   "id": "df23d1ab-7218-479d-af2c-125d322f1787",
   "metadata": {},
   "source": [
    "### 2. using dataset"
   ]
  },
  {
   "cell_type": "code",
   "execution_count": 32,
   "id": "245af493-0695-4fca-ae49-e3a7db206b77",
   "metadata": {},
   "outputs": [
    {
     "data": {
      "text/plain": [
       "23.625"
      ]
     },
     "execution_count": 32,
     "metadata": {},
     "output_type": "execute_result"
    }
   ],
   "source": [
    "dataset.mean()"
   ]
  },
  {
   "cell_type": "markdown",
   "id": "bb3318ff-02e7-4615-b418-bb589036c899",
   "metadata": {},
   "source": [
    "### Using numpy"
   ]
  },
  {
   "cell_type": "code",
   "execution_count": 33,
   "id": "e6d939dd-b572-443e-a5c2-d353c67f798b",
   "metadata": {},
   "outputs": [
    {
     "data": {
      "text/plain": [
       "23.625"
      ]
     },
     "execution_count": 33,
     "metadata": {},
     "output_type": "execute_result"
    }
   ],
   "source": [
    "np.mean(dataset)"
   ]
  },
  {
   "cell_type": "markdown",
   "id": "91c27c14-cdc7-4f5d-a1c6-049dc5b25d84",
   "metadata": {},
   "source": [
    "# using csv file and calculate mean of age"
   ]
  },
  {
   "cell_type": "code",
   "execution_count": 34,
   "id": "5a75b41b-c98a-4ea1-8815-32a892489b8b",
   "metadata": {},
   "outputs": [],
   "source": [
    "data=pd.read_csv(\"titanic.csv\")"
   ]
  },
  {
   "cell_type": "code",
   "execution_count": 35,
   "id": "aeb0bb8b-c2a6-4102-9715-fafc738b5f21",
   "metadata": {},
   "outputs": [
    {
     "data": {
      "text/plain": [
       "PassengerId      0\n",
       "Survived         0\n",
       "Pclass           0\n",
       "Name             0\n",
       "Sex              0\n",
       "Age            177\n",
       "SibSp            0\n",
       "Parch            0\n",
       "Ticket           0\n",
       "Fare             0\n",
       "Cabin          687\n",
       "Embarked         2\n",
       "dtype: int64"
      ]
     },
     "execution_count": 35,
     "metadata": {},
     "output_type": "execute_result"
    }
   ],
   "source": [
    "data.isnull().sum()"
   ]
  },
  {
   "cell_type": "code",
   "execution_count": null,
   "id": "3d4b23d5-1b2c-4a4c-9c46-4380d04a6072",
   "metadata": {},
   "outputs": [],
   "source": [
    "### Data Cl"
   ]
  },
  {
   "cell_type": "code",
   "execution_count": 36,
   "id": "782aa213-b3bf-4204-9718-6503f4b1a6ec",
   "metadata": {},
   "outputs": [
    {
     "name": "stderr",
     "output_type": "stream",
     "text": [
      "C:\\Users\\Anshil\\AppData\\Local\\Temp\\ipykernel_19740\\914014022.py:1: FutureWarning: Series.fillna with 'method' is deprecated and will raise in a future version. Use obj.ffill() or obj.bfill() instead.\n",
      "  data['Age']=data['Age'].fillna(method=\"ffill\")\n"
     ]
    }
   ],
   "source": [
    "data['Age']=data['Age'].fillna(method=\"ffill\")"
   ]
  },
  {
   "cell_type": "code",
   "execution_count": 37,
   "id": "1e923017-73c5-42f9-acb6-5504eacefa36",
   "metadata": {},
   "outputs": [
    {
     "data": {
      "text/plain": [
       "PassengerId      0\n",
       "Survived         0\n",
       "Pclass           0\n",
       "Name             0\n",
       "Sex              0\n",
       "Age              0\n",
       "SibSp            0\n",
       "Parch            0\n",
       "Ticket           0\n",
       "Fare             0\n",
       "Cabin          687\n",
       "Embarked         2\n",
       "dtype: int64"
      ]
     },
     "execution_count": 37,
     "metadata": {},
     "output_type": "execute_result"
    }
   ],
   "source": [
    "data.isnull().sum()"
   ]
  },
  {
   "cell_type": "code",
   "execution_count": 38,
   "id": "7454bda4-52fd-4857-a63e-5d794273e1bd",
   "metadata": {},
   "outputs": [
    {
     "data": {
      "text/plain": [
       "29.581560044893376"
      ]
     },
     "execution_count": 38,
     "metadata": {},
     "output_type": "execute_result"
    }
   ],
   "source": [
    "data['Age'].mean()"
   ]
  },
  {
   "cell_type": "code",
   "execution_count": 39,
   "id": "404338ad-87c3-4d74-921a-f0419602ce59",
   "metadata": {},
   "outputs": [
    {
     "data": {
      "text/plain": [
       "29.581560044893376"
      ]
     },
     "execution_count": 39,
     "metadata": {},
     "output_type": "execute_result"
    }
   ],
   "source": [
    "np.mean(data['Age']) #Using Numpy to find out mean of age "
   ]
  },
  {
   "cell_type": "code",
   "execution_count": 55,
   "id": "3092acc5-46b8-40fc-bc3b-40d467c6b59e",
   "metadata": {},
   "outputs": [
    {
     "data": {
      "image/png": "[encoded data removed]",
      "text/plain": [
       "<Figure size 640x480 with 1 Axes>"
      ]
     },
     "metadata": {},
     "output_type": "display_data"
    }
   ],
   "source": [
    "sns.histplot(x='Age',data=data,legend=False,bins=[i for i in range(0,81,10)],hue='Age',palette=\"cool\")\n",
    "# plt.legend().remove()\n",
    " \n",
    "plt.show()"
   ]
  },
  {
   "cell_type": "code",
   "execution_count": null,
   "id": "9d10e549-1123-4d36-b72e-307d1a2a4612",
   "metadata": {},
   "outputs": [],
   "source": [
    "pl"
   ]
  }
 ],
 "metadata": {
  "kernelspec": {
   "display_name": "Python 3 (ipykernel)",
   "language": "python",
   "name": "python3"
  },
  "language_info": {
   "codemirror_mode": {
    "name": "ipython",
    "version": 3
   },
   "file_extension": ".py",
   "mimetype": "text/x-python",
   "name": "python",
   "nbconvert_exporter": "python",
   "pygments_lexer": "ipython3",
   "version": "3.12.3"
  }
 },
 "nbformat": 4,
 "nbformat_minor": 5
}
