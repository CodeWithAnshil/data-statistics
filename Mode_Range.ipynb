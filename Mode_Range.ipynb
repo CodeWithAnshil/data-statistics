{
 "cells": [
  {
   "cell_type": "code",
   "execution_count": 4,
   "id": "0a1fa3d7-46ef-4e5f-ab4d-87b757e68b5d",
   "metadata": {},
   "outputs": [],
   "source": [
    "import numpy as np\n",
    "import pandas as pd\n",
    "import seaborn as sns\n",
    "import matplotlib.pyplot as plt\n"
   ]
  },
  {
   "cell_type": "code",
   "execution_count": 14,
   "id": "ee546205-1ecb-4f78-be35-e450cb6e4f9d",
   "metadata": {},
   "outputs": [],
   "source": [
    "dataset=pd.read_csv(\"titanic.csv\")\n"
   ]
  },
  {
   "cell_type": "code",
   "execution_count": 15,
   "id": "28010acc-55aa-414d-a432-2b7acaf1456e",
   "metadata": {},
   "outputs": [
    {
     "data": {
      "text/plain": [
       "PassengerId      0\n",
       "Survived         0\n",
       "Pclass           0\n",
       "Name             0\n",
       "Sex              0\n",
       "Age            177\n",
       "SibSp            0\n",
       "Parch            0\n",
       "Ticket           0\n",
       "Fare             0\n",
       "Cabin          687\n",
       "Embarked         2\n",
       "dtype: int64"
      ]
     },
     "execution_count": 15,
     "metadata": {},
     "output_type": "execute_result"
    }
   ],
   "source": [
    "dataset.isnull().sum()"
   ]
  },
  {
   "cell_type": "markdown",
   "id": "f1aa0622-42d2-4200-8700-5003180cdd55",
   "metadata": {},
   "source": [
    "### Data Cleaning"
   ]
  },
  {
   "cell_type": "code",
   "execution_count": 49,
   "id": "f7fc516d-8904-4f59-9b6b-73c405bcc0d9",
   "metadata": {},
   "outputs": [
    {
     "name": "stderr",
     "output_type": "stream",
     "text": [
      "C:\\Users\\Anshil\\AppData\\Local\\Temp\\ipykernel_20100\\831371610.py:1: FutureWarning: Series.fillna with 'method' is deprecated and will raise in a future version. Use obj.ffill() or obj.bfill() instead.\n",
      "  dataset['Age']=dataset['Age'].fillna(method=\"ffill\")\n"
     ]
    }
   ],
   "source": [
    "dataset['Age']=dataset['Age'].fillna(method=\"ffill\")"
   ]
  },
  {
   "cell_type": "code",
   "execution_count": 50,
   "id": "acf9d24e-a3ef-4f26-bc08-5ac67247f054",
   "metadata": {},
   "outputs": [
    {
     "data": {
      "text/plain": [
       "PassengerId      0\n",
       "Survived         0\n",
       "Pclass           0\n",
       "Name             0\n",
       "Sex              0\n",
       "Age              0\n",
       "SibSp            0\n",
       "Parch            0\n",
       "Ticket           0\n",
       "Fare             0\n",
       "Cabin          687\n",
       "Embarked         2\n",
       "dtype: int64"
      ]
     },
     "execution_count": 50,
     "metadata": {},
     "output_type": "execute_result"
    }
   ],
   "source": [
    "dataset.isnull().sum()"
   ]
  },
  {
   "cell_type": "code",
   "execution_count": 51,
   "id": "bd188400-3080-42ae-8a4d-6f6a7c33ed2c",
   "metadata": {},
   "outputs": [],
   "source": [
    "md=dataset[\"Fare\"].median()\n",
    "mn=dataset[\"Fare\"].mean()\n",
    "mo=dataset[\"Fare\"].mode()[0]\n"
   ]
  },
  {
   "cell_type": "code",
   "execution_count": null,
   "id": "a40756d7-6015-4e6c-892a-432402c5d25d",
   "metadata": {},
   "outputs": [],
   "source": []
  },
  {
   "cell_type": "code",
   "execution_count": 55,
   "id": "6aadc1e8-eaee-4c6b-a44b-0425cad3a197",
   "metadata": {},
   "outputs": [
    {
     "data": {
      "image/png": "[encoded data removed]",
      "text/plain": [
       "<Figure size 640x480 with 1 Axes>"
      ]
     },
     "metadata": {},
     "output_type": "display_data"
    }
   ],
   "source": [
    "sns.histplot(x='Age',data=dataset,hue=\"Age\",palette='cool',legend=False)\n",
    "# plt.legend().remove()\n",
    "plt.plot([md for i in range(0,175)],[i for i in range(0,175)],c=\"r\",label=\"modian\")\n",
    "plt.plot([mn for i in range(0,175)],[i for i in range(0,175)],c=\"b\",label=\"mean\")\n",
    "plt.plot([mo for i in range(0,175)],[i for i in range(0,175)],c=\"g\",label=\"mode\")\n",
    "plt.legend()\n",
    "plt.show()"
   ]
  },
  {
   "cell_type": "markdown",
   "id": "fe5bdce4-6d0d-4f7b-8dbe-ed34c378d8b1",
   "metadata": {},
   "source": [
    "### Range "
   ]
  },
  {
   "cell_type": "code",
   "execution_count": 56,
   "id": "2b0a1b8a-f81c-406c-bdd7-1141a9f3459c",
   "metadata": {},
   "outputs": [],
   "source": [
    "min_r=dataset[\"Age\"].min()\n",
    "max_r=dataset[\"Age\"].max()"
   ]
  },
  {
   "cell_type": "code",
   "execution_count": 57,
   "id": "6c19b952-d681-4a0c-8b54-9887871825b3",
   "metadata": {},
   "outputs": [
    {
     "data": {
      "text/plain": [
       "(0.42, 80.0)"
      ]
     },
     "execution_count": 57,
     "metadata": {},
     "output_type": "execute_result"
    }
   ],
   "source": [
    "min_r,max_r"
   ]
  },
  {
   "cell_type": "code",
   "execution_count": 59,
   "id": "38f450ec-dc0a-4c8b-8f2c-3c44bca2194e",
   "metadata": {},
   "outputs": [
    {
     "data": {
      "text/plain": [
       "79.58"
      ]
     },
     "execution_count": 59,
     "metadata": {},
     "output_type": "execute_result"
    }
   ],
   "source": [
    "Range=max_r - min_r\n",
    "Range"
   ]
  },
  {
   "cell_type": "code",
   "execution_count": null,
   "id": "22b6d3a2-1b6f-4424-8268-9390ace1cf44",
   "metadata": {},
   "outputs": [],
   "source": []
  }
 ],
 "metadata": {
  "kernelspec": {
   "display_name": "Python 3 (ipykernel)",
   "language": "python",
   "name": "python3"
  },
  "language_info": {
   "codemirror_mode": {
    "name": "ipython",
    "version": 3
   },
   "file_extension": ".py",
   "mimetype": "text/x-python",
   "name": "python",
   "nbconvert_exporter": "python",
   "pygments_lexer": "ipython3",
   "version": "3.12.3"
  }
 },
 "nbformat": 4,
 "nbformat_minor": 5
}
